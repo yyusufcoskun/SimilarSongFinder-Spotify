{
 "cells": [
  {
   "cell_type": "code",
   "execution_count": 1,
   "metadata": {},
   "outputs": [],
   "source": [
    "from __future__ import print_function    # (at top of module)\n",
    "\n",
    "import os\n",
    "import json\n",
    "import time\n",
    "import sys\n",
    "from dotenv import load_dotenv\n",
    "\n",
    "import spotipy\n",
    "from spotipy.oauth2 import SpotifyClientCredentials\n",
    "\n",
    "load_dotenv()\n",
    "client_id = os.getenv(\"SPOTIPY_CLIENT_ID\")\n",
    "client_secret = os.getenv(\"SPOTIPY_CLIENT_SECRET\")\n",
    "\n",
    "sp = spotipy.Spotify(client_credentials_manager=SpotifyClientCredentials())"
   ]
  },
  {
   "cell_type": "code",
   "execution_count": 3,
   "metadata": {},
   "outputs": [
    {
     "data": {
      "text/plain": [
       "[{'danceability': 0.495,\n",
       "  'energy': 0.894,\n",
       "  'key': 2,\n",
       "  'loudness': -4.814,\n",
       "  'mode': 0,\n",
       "  'speechiness': 0.0441,\n",
       "  'acousticness': 0.00453,\n",
       "  'instrumentalness': 0.000596,\n",
       "  'liveness': 0.103,\n",
       "  'valence': 0.213,\n",
       "  'tempo': 126.03,\n",
       "  'type': 'audio_features',\n",
       "  'id': '5TbzAWWc5eJaANpA9kfGCd',\n",
       "  'uri': 'spotify:track:5TbzAWWc5eJaANpA9kfGCd',\n",
       "  'track_href': 'https://api.spotify.com/v1/tracks/5TbzAWWc5eJaANpA9kfGCd',\n",
       "  'analysis_url': 'https://api.spotify.com/v1/audio-analysis/5TbzAWWc5eJaANpA9kfGCd',\n",
       "  'duration_ms': 239894,\n",
       "  'time_signature': 4}]"
      ]
     },
     "execution_count": 3,
     "metadata": {},
     "output_type": "execute_result"
    }
   ],
   "source": [
    "urn = 'https://open.spotify.com/track/5TbzAWWc5eJaANpA9kfGCd?si=9262cbe9e69c486e'\n",
    "\n",
    "sp.audio_features(urn)\n"
   ]
  }
 ],
 "metadata": {
  "kernelspec": {
   "display_name": "venv",
   "language": "python",
   "name": "python3"
  },
  "language_info": {
   "codemirror_mode": {
    "name": "ipython",
    "version": 3
   },
   "file_extension": ".py",
   "mimetype": "text/x-python",
   "name": "python",
   "nbconvert_exporter": "python",
   "pygments_lexer": "ipython3",
   "version": "3.11.1"
  },
  "orig_nbformat": 4
 },
 "nbformat": 4,
 "nbformat_minor": 2
}
