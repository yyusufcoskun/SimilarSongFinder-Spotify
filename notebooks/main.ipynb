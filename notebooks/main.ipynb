{
 "cells": [
  {
   "cell_type": "code",
   "execution_count": 1,
   "metadata": {},
   "outputs": [],
   "source": [
    "from __future__ import print_function    # (at top of module)\n",
    "\n",
    "import os\n",
    "import json\n",
    "import time\n",
    "import sys\n",
    "from dotenv import load_dotenv\n",
    "\n",
    "import spotipy\n",
    "from spotipy.oauth2 import SpotifyClientCredentials\n",
    "\n",
    "load_dotenv()\n",
    "client_id = os.getenv(\"SPOTIPY_CLIENT_ID\")\n",
    "client_secret = os.getenv(\"SPOTIPY_CLIENT_SECRET\")\n",
    "\n",
    "sp = spotipy.Spotify(client_credentials_manager=SpotifyClientCredentials())"
   ]
  },
  {
   "cell_type": "code",
   "execution_count": 2,
   "metadata": {},
   "outputs": [
    {
     "data": {
      "text/plain": [
       "[{'danceability': 0.422,\n",
       "  'energy': 0.609,\n",
       "  'key': 11,\n",
       "  'loudness': -6.361,\n",
       "  'mode': 0,\n",
       "  'speechiness': 0.0335,\n",
       "  'acousticness': 0.0114,\n",
       "  'instrumentalness': 4.76e-06,\n",
       "  'liveness': 0.108,\n",
       "  'valence': 0.0911,\n",
       "  'tempo': 107.34,\n",
       "  'type': 'audio_features',\n",
       "  'id': '2jQiSYrwJehQAcuaaQrXnS',\n",
       "  'uri': 'spotify:track:2jQiSYrwJehQAcuaaQrXnS',\n",
       "  'track_href': 'https://api.spotify.com/v1/tracks/2jQiSYrwJehQAcuaaQrXnS',\n",
       "  'analysis_url': 'https://api.spotify.com/v1/audio-analysis/2jQiSYrwJehQAcuaaQrXnS',\n",
       "  'duration_ms': 230011,\n",
       "  'time_signature': 3}]"
      ]
     },
     "execution_count": 2,
     "metadata": {},
     "output_type": "execute_result"
    }
   ],
   "source": [
    "urn = 'spotify:track:2jQiSYrwJehQAcuaaQrXnS'\n",
    "\n",
    "sp.audio_features(urn)"
   ]
  }
 ],
 "metadata": {
  "kernelspec": {
   "display_name": "venv",
   "language": "python",
   "name": "python3"
  },
  "language_info": {
   "codemirror_mode": {
    "name": "ipython",
    "version": 3
   },
   "file_extension": ".py",
   "mimetype": "text/x-python",
   "name": "python",
   "nbconvert_exporter": "python",
   "pygments_lexer": "ipython3",
   "version": "3.11.1"
  },
  "orig_nbformat": 4
 },
 "nbformat": 4,
 "nbformat_minor": 2
}
